{
  "nbformat": 4,
  "nbformat_minor": 0,
  "metadata": {
    "colab": {
      "provenance": [],
      "authorship_tag": "ABX9TyOCTmt2bHjUMwFrgRYv9SSG",
      "include_colab_link": true
    },
    "kernelspec": {
      "name": "python3",
      "display_name": "Python 3"
    },
    "language_info": {
      "name": "python"
    }
  },
  "cells": [
    {
      "cell_type": "markdown",
      "metadata": {
        "id": "view-in-github",
        "colab_type": "text"
      },
      "source": [
        "<a href=\"https://colab.research.google.com/github/singhnidh/Assessment-of-Fruit-Quality-using-Hyperspectral-Imaging-with-the-help-of-Deep-learning/blob/main/ResNet_50.ipynb\" target=\"_parent\"><img src=\"https://colab.research.google.com/assets/colab-badge.svg\" alt=\"Open In Colab\"/></a>"
      ]
    },
    {
      "cell_type": "code",
      "execution_count": null,
      "metadata": {
        "id": "kx8ghAbTjqkm"
      },
      "outputs": [],
      "source": [
        "import numpy as np\n",
        "import pandas as pd\n",
        "import matplotlib.pyplot as plt\n",
        "import os\n",
        "import cv2\n",
        "from tqdm import tqdm\n",
        "\n",
        "#loading images from path\n",
        "DATADIR = 'D:/archivefruit/fruits-360_dataset/fruits-360/Training'\n",
        "CATEGORIES = [\"Apple Braeburn\",\"Avocado\",\"Banana\",\"Blueberry\",\"Guava\",\"Kiwi\",\"Orange\"]\n",
        "for category in CATEGORIES:\n",
        "    path = os.path.join(DATADIR, category)\n",
        "    for img in os.listdir(path):\n",
        "        img_array = cv2.imread(os.path.join(path,img))\n",
        "        #,cv2.IMREAD_GRAYSCALE\n",
        "        plt.imshow(img_array)\n",
        "        plt.show()\n",
        "        break\n",
        "    break\n",
        "#print (room_types)  #what kinds of rooms are in this dataset\n",
        "\n",
        "print(\"Types of fruits found: \", len(CATEGORIES))"
      ]
    },
    {
      "cell_type": "code",
      "source": [
        "IMG_SIZE = 100\n",
        "batch_size = 100\n",
        "img_height = 100\n",
        "img_width = 100"
      ],
      "metadata": {
        "id": "qAsKbk8bjr6R"
      },
      "execution_count": null,
      "outputs": []
    },
    {
      "cell_type": "code",
      "source": [
        "#building our training data\n",
        "training_data = []\n",
        "\n",
        "def create_training_data():\n",
        "    for category in CATEGORIES:  # do fruits\n",
        "\n",
        "        path = os.path.join(DATADIR,category)  # create path to fruits\n",
        "        class_num = CATEGORIES.index(category)  # get the classification  (0 ,1,2,3,4,5,6) different number donate different category of fruit\n",
        "\n",
        "        for img in tqdm(os.listdir(path)):  # iterate over each image per fruits\n",
        "            try:\n",
        "                img_array = cv2.imread(os.path.join(path,img) ,cv2.IMREAD_GRAYSCALE)  # convert to array\n",
        "                new_array = cv2.resize(img_array, (IMG_SIZE, IMG_SIZE))  # resize to normalize data size\n",
        "                training_data.append([new_array, class_num])  # add this to our training_data\n",
        "            except Exception as e:  # in the interest in keeping the output clean...\n",
        "                pass\n",
        "\n",
        "create_training_data()\n",
        "\n",
        "image_count = len(training_data)"
      ],
      "metadata": {
        "id": "zlG_Fw6ujr8z"
      },
      "execution_count": null,
      "outputs": []
    },
    {
      "cell_type": "code",
      "source": [
        "# Build a dataframe\n",
        "fruits_df = pd.DataFrame(data=training_data, columns=['fruits type', 'image'])\n",
        "#print(rooms_df.head())\n",
        "#print(rooms_df.tail())"
      ],
      "metadata": {
        "id": "9F4IQikVjsBv"
      },
      "execution_count": null,
      "outputs": []
    },
    {
      "cell_type": "markdown",
      "source": [
        "#Let's check how many samples for each category are present\n",
        "#print(\"Total number of fruits in the dataset: \", len(fruits_df))\n",
        "\n",
        "#fruits_count = fruits_df['fruits type'].value_counts()\n",
        "\n",
        "#print(\"fruits in each category: \")\n",
        "#print(fruit_count)"
      ],
      "metadata": {
        "id": "-kZaW2K7j8jj"
      }
    },
    {
      "cell_type": "code",
      "source": [
        "#Assigning labels and features\n",
        "X =[]\n",
        "y =[]\n",
        "for features, label in training_data:\n",
        "    X.append(features)\n",
        "    y.append(label)\n",
        "X = np.array(X).reshape(-1, IMG_SIZE, IMG_SIZE, 1)"
      ],
      "metadata": {
        "id": "PyR8K_G3jsD-"
      },
      "execution_count": null,
      "outputs": []
    },
    {
      "cell_type": "markdown",
      "source": [
        "#creating own model\n",
        "#Normalising X and converting labels to categorical data\n",
        "#X = X.astype('float32') X /= 255 Y = np_utils.to_categorical(y,7) print(Y[100]) print(shape(Y))"
      ],
      "metadata": {
        "id": "RVls6_8QkKpo"
      }
    },
    {
      "cell_type": "code",
      "source": [
        "# Transform the image array to a numpy type\n",
        "X = np.array(X)\n",
        "X.shape"
      ],
      "metadata": {
        "id": "hCEqiYv4jsIj"
      },
      "execution_count": null,
      "outputs": []
    },
    {
      "cell_type": "code",
      "source": [
        "#creating own model\n",
        "#Normalising X and converting labels to categorical data\n",
        "from keras.utils import np_utils\n",
        "X = X.astype('float32')\n",
        "X /= 255\n",
        "Y = np_utils.to_categorical(y,7)\n",
        "print(Y[100])\n",
        "print(Y.shape)"
      ],
      "metadata": {
        "id": "lChEWMLdjsKp"
      },
      "execution_count": null,
      "outputs": []
    },
    {
      "cell_type": "code",
      "source": [
        "X = np.array(X)\n",
        "y=np.array(y)"
      ],
      "metadata": {
        "id": "a4dV9SGXjsPC"
      },
      "execution_count": null,
      "outputs": []
    },
    {
      "cell_type": "code",
      "source": [
        "from sklearn.utils import shuffle\n",
        "from sklearn.model_selection import train_test_split\n",
        "X, Y = shuffle(X, Y, random_state=1)\n",
        "train_x, test_x, train_y, test_y = train_test_split(X, Y, test_size=0.3, random_state=415)\n",
        "\n",
        "#inpect the shape of the training and testing.\n",
        "print(train_x.shape)\n",
        "print(train_y.shape)\n",
        "print(test_x.shape)\n",
        "print(test_y.shape)"
      ],
      "metadata": {
        "id": "I_dIcxpKjsRI"
      },
      "execution_count": null,
      "outputs": []
    },
    {
      "cell_type": "code",
      "source": [
        "import numpy as np\n",
        "from keras import layers\n",
        "from keras.layers import Input, Add, Dense, Activation, ZeroPadding2D, BatchNormalization, Flatten, Conv2D, AveragePooling2D, MaxPooling2D, GlobalMaxPooling2D\n",
        "from keras.models import Model, load_model\n",
        "from keras.preprocessing import image\n",
        "from keras.utils import layer_utils\n",
        "from keras.utils.data_utils import get_file\n",
        "from keras.applications.imagenet_utils import preprocess_input\n",
        "import pydot\n",
        "from IPython.display import SVG\n",
        "from keras.utils.vis_utils import model_to_dot\n",
        "from keras.utils import plot_model\n",
        "\n",
        "from keras.initializers import glorot_uniform\n",
        "import scipy.misc\n",
        "from matplotlib.pyplot import imshow\n",
        "\n",
        "from keras.initializers import glorot_uniform\n",
        "from keras.layers import Input, Add, Dense, Activation, ZeroPadding2D, BatchNormalization, Flatten, Conv2D, AveragePooling2D, MaxPooling2D, GlobalMaxPooling2D\n"
      ],
      "metadata": {
        "id": "4E8L2boPjsVl"
      },
      "execution_count": null,
      "outputs": []
    },
    {
      "cell_type": "code",
      "source": [
        "# x is input, y=F(x)\n",
        "# identity block simply means input should be equal to output.\n",
        "#  y = x + F(x)   the layers in a traditional network are learning the true output H(x)\n",
        "# F(x) = y - x   the layers in a residual network are learning the residual F(x)\n",
        "# Hence, the name: Residual Block.\n",
        "def identity_block(A, f, filters, stage, block):\n",
        "    \"\"\"\n",
        "    Arguments:\n",
        "    A -- input of shape (m, height, width, channel)\n",
        "    f -- shape of the middle CONV's window for the main path\n",
        "    filters -- python list of integers, defining the number of filters in the CONV layers of the main path\n",
        "    stage -- integer, used to name the layers, depending on their position in the network\n",
        "    block -- string/character, used to name the layers, depending on their position in the network\n",
        "\n",
        "    Returns:\n",
        "    A -- output of the identity block, tensor of shape (n_H, n_W, n_C)\n",
        "    \"\"\"\n",
        "    # defining name basis\n",
        "    conv_name_base = 'res' + str(stage) + block + '_branch'\n",
        "    bn_name_base = 'bn' + str(stage) + block + '_branch'\n",
        "\n",
        "    # Retrieve Filters\n",
        "    F1, F2, F3 = filters\n",
        "\n",
        "    # Saving the input value.we need this later to add to the output.\n",
        "    A_shortcut = A\n",
        "     # First component of main path\n",
        "    A = Conv2D(filters = F1, kernel_size = (1, 1), strides = (1,1), padding = 'valid', name = conv_name_base + '2a')(A)\n",
        "    A = BatchNormalization(axis = 3, name = bn_name_base + '2a')(A)\n",
        "    A = Activation('relu')(A)\n",
        "\n",
        "    # Second component of main path (≈3 lines)\n",
        "    A = Conv2D(filters = F2, kernel_size = (f, f), strides = (1,1), padding = 'same', name = conv_name_base + '2b')(A)\n",
        "    A = BatchNormalization(axis = 3, name = bn_name_base + '2b')(A)\n",
        "    A = Activation('relu')(A)\n",
        "\n",
        "    # Third component of main path (≈2 lines)\n",
        "    A = Conv2D(filters = F3, kernel_size = (1, 1), strides = (1,1), padding = 'valid', name = conv_name_base + '2c')(A)\n",
        "    A = BatchNormalization(axis = 3, name = bn_name_base + '2c')(A)\n",
        "\n",
        "    # Final step: Add shortcut value to main path, and pass it through a RELU activation\n",
        "    A = Add()([A, A_shortcut])\n",
        "    A = Activation('relu')(A)\n",
        "\n",
        "    return A"
      ],
      "metadata": {
        "id": "DX7XqM3ujsXv"
      },
      "execution_count": null,
      "outputs": []
    },
    {
      "cell_type": "code",
      "source": [
        "def convolutional_block(A, f, filters, stage, block, s = 2):\n",
        "    # defining name basis\n",
        "    conv_name_base = 'res' + str(stage) + block + '_branch'\n",
        "    bn_name_base = 'bn' + str(stage) + block + '_branch'\n",
        "    # Retrieve Filters\n",
        "    F1, F2, F3 = filters\n",
        "    # Save the input value\n",
        "    A_shortcut = A\n",
        "    # First layer\n",
        "    A = Conv2D(F1, (1, 1), strides = (s,s), name = conv_name_base + '2a')(A) # 1,1 is filter size\n",
        "    A = BatchNormalization(axis = 3, name = bn_name_base + '2a')(A)  # normalization on channels\n",
        "    A = Activation('relu')(A)\n",
        "    # Second layer  (f,f)=3*3 filter by default\n",
        "    A = Conv2D(filters = F2, kernel_size = (f, f), strides = (1,1), padding = 'same', name = conv_name_base + '2b')(A)\n",
        "    A = BatchNormalization(axis = 3, name = bn_name_base + '2b')(A)\n",
        "    A = Activation('relu')(A)\n",
        "    # Third layer\n",
        "    A = Conv2D(filters = F3, kernel_size = (1, 1), strides = (1,1), padding = 'valid', name = conv_name_base + '2c')(A)\n",
        "    A = BatchNormalization(axis = 3, name = bn_name_base + '2c')(A)\n",
        "     ##### SHORTCUT PATH ####\n",
        "    A_shortcut = Conv2D(filters = F3, kernel_size = (1, 1), strides = (s,s), padding = 'valid', name = conv_name_base + '1')(A_shortcut)\n",
        "    A_shortcut = BatchNormalization(axis = 3, name = bn_name_base + '1')(A_shortcut)\n",
        "\n",
        "    # Final step: Add shortcut value here, and pass it through a RELU activation\n",
        "    A = Add()([A, A_shortcut])\n",
        "    A = Activation('relu')(A)\n",
        "\n",
        "    return A"
      ],
      "metadata": {
        "id": "a_CF1PuijscU"
      },
      "execution_count": null,
      "outputs": []
    },
    {
      "cell_type": "code",
      "source": [
        "#creating Resnet 50\n",
        "#Each ResNet block is either 2 layer deep\n",
        "def ResNet50(input_shape=(100,100,1), classes=7):\n",
        "    \"\"\"\n",
        "    Implementation of the ResNet50 architecture:\n",
        "    CONV2D -> BATCHNORM -> RELU -> MAAPOOL -> CONVBLOCK -> IDBLOCK*2 -> CONVBLOCK -> IDBLOCK*3\n",
        "    -> CONVBLOCK -> IDBLOCK*5 -> CONVBLOCK -> IDBLOCK*2 -> AVGPOOL -> TOPLAYER\n",
        "\n",
        "    \"\"\"\n",
        "    # Define the input as a tensor with shape input_shape\n",
        "    A_input = Input(input_shape)\n",
        "    # Zero-Padding\n",
        "    A = ZeroPadding2D((3, 3))(A_input) #3,3 padding\n",
        "    # Stage 1\n",
        "    A = Conv2D(64, (7, 7), strides=(2, 2), name='conv1')(A) #64 filters of 7*7\n",
        "    A = BatchNormalization(axis=3, name='bn_conv1')(A) #batchnorm applied on channels\n",
        "    A = Activation('relu')(A)\n",
        "    A = MaxPooling2D((3, 3), strides=(2, 2))(A) #window size is 3*3\n",
        "    # Stage 2\n",
        "    A = convolutional_block(A, f=3, filters=[64, 64, 256], stage=2, block='a', s=1)\n",
        "    # convolutional_block is a function defined above. Convolutional_block have 3 layers.\n",
        "    #filters=[64, 64, 256] first 64 is for 1st layer and 2nd 64 is for 2nd layer and 256 is for 3rd layer of convultional block\n",
        "    # below are the conv layers from convolutional_block function\n",
        "    #A = Conv2D(F1, (1, 1), strides = (s,s), name = conv_name_base + '2a')(A)\n",
        "    #A = Conv2D(F2, kernel_size = (f, f), strides = (1,1), padding = 'same', name = conv_name_base + '2b')(A)\n",
        "    #A = Conv2D(F3, (1, 1), strides = (s,s), name = conv_name_base + '2a')(A)\n",
        "    A = identity_block(A, 3, [64, 64, 256], stage=2, block='b')\n",
        "    #A = Conv2D(filters = F1, kernel_size = (1, 1), strides = (1,1), padding = 'valid', name = conv_name_base + '2a')(A)\n",
        "    #A = Conv2D(filters = F2, kernel_size = (f, f), strides = (1,1), padding = 'same', name = conv_name_base + '2b')(A)\n",
        "    #A = Conv2D(filters = F3, kernel_size = (1, 1), strides = (1,1), padding = 'valid', name = conv_name_base + '2c')(A)\n",
        "    A = identity_block(A, 3, [64, 64, 256], stage=2, block='c')\n",
        "    #A = Conv2D(filters = F1, kernel_size = (1, 1), strides = (1,1), padding = 'valid', name = conv_name_base + '2a')(A)\n",
        "    #A = Conv2D(filters = F2, kernel_size = (f, f), strides = (1,1), padding = 'same', name = conv_name_base + '2b')(A)\n",
        "    #A = Conv2D(filters = F3, kernel_size = (1, 1), strides = (1,1), padding = 'valid', name = conv_name_base + '2c')(A)\n",
        "    ### START CODE HERE ###\n",
        "    # Stage 3\n",
        "    A = convolutional_block(A, f = 3, filters = [128, 128, 512], stage = 3, block='a', s = 2)\n",
        "    A = identity_block(A, 3, [128, 128, 512], stage=3, block='b')\n",
        "    A = identity_block(A, 3, [128, 128, 512], stage=3, block='c')\n",
        "    A = identity_block(A, 3, [128, 128, 512], stage=3, block='d')\n",
        "\n",
        "    # Stage 4\n",
        "    A = convolutional_block(A, f = 3, filters = [256, 256, 1024], stage = 4, block='a', s = 2)\n",
        "    A = identity_block(A, 3, [256, 256, 1024], stage=4, block='b')\n",
        "    A = identity_block(A, 3, [256, 256, 1024], stage=4, block='c')\n",
        "    A = identity_block(A, 3, [256, 256, 1024], stage=4, block='d')\n",
        "    A = identity_block(A, 3, [256, 256, 1024], stage=4, block='e')\n",
        "    A = identity_block(A, 3, [256, 256, 1024], stage=4, block='f')\n",
        "\n",
        "    # Stage 5\n",
        "    A = convolutional_block(A, f = 3, filters = [512, 512, 2048], stage = 5, block='a', s = 2)\n",
        "    A = identity_block(A, 3, [512, 512, 2048], stage=5, block='b')\n",
        "    A = identity_block(A, 3, [512, 512, 2048], stage=5, block='c')\n",
        "\n",
        "    # AVGPOOL\n",
        "    A = AveragePooling2D((2,2), name=\"avg_pool\")(A)\n",
        "     ### END CODE HERE ###\n",
        "    # output layer\n",
        "    A = Flatten()(A)\n",
        "    A = Dense(classes, activation='softmax', name='fc' + str(classes), kernel_initializer = glorot_uniform(seed=0))(A)\n",
        "    # Create model\n",
        "    model = Model(inputs = A_input, outputs = A, name='ResNet50')\n",
        "\n",
        "    return model"
      ],
      "metadata": {
        "id": "xPlVJSBJjsfR"
      },
      "execution_count": null,
      "outputs": []
    },
    {
      "cell_type": "code",
      "source": [
        "model = ResNet50(input_shape = (100,100,1), classes = 7)"
      ],
      "metadata": {
        "id": "g9goudwfk1FU"
      },
      "execution_count": null,
      "outputs": []
    },
    {
      "cell_type": "code",
      "source": [
        "model.compile(optimizer='adam', loss='categorical_crossentropy', metrics=['accuracy'])\n"
      ],
      "metadata": {
        "id": "tBYe0Ku0k1Ln"
      },
      "execution_count": null,
      "outputs": []
    },
    {
      "cell_type": "code",
      "source": [
        "model.summary()"
      ],
      "metadata": {
        "id": "4mS9Knenk1Nb"
      },
      "execution_count": null,
      "outputs": []
    },
    {
      "cell_type": "code",
      "source": [
        "import tensorflow as tf\n",
        "model.fit(train_x, train_y, batch_size = 32, verbose=1,epochs =5,validation_split = 0.3, callbacks=[tf.keras.callbacks.CSVLogger('hisr.csv')])\n"
      ],
      "metadata": {
        "id": "cc9u9Tblk1R2"
      },
      "execution_count": null,
      "outputs": []
    },
    {
      "cell_type": "code",
      "source": [
        "#Evaluate the Model\n",
        "history = pd.read_csv('hisr.csv')\n",
        "history.head()\n",
        "plt.figure(figsize=(19,6))\n",
        "plt.subplot(131)\n",
        "plt.plot(history.epoch, history.loss, label=\"loss\")\n",
        "plt.plot(history.epoch, history.val_accuracy, label=\"val_accuracy\")\n",
        "plt.xlabel('loss')\n",
        "plt.ylabel('val_accuracy')\n",
        "plt.legend()"
      ],
      "metadata": {
        "id": "ndnKgqwCk1Uw"
      },
      "execution_count": null,
      "outputs": []
    },
    {
      "cell_type": "code",
      "source": [
        "preds = model.evaluate(test_x, test_y)\n",
        "print (\"Loss = \" + str(preds[0]))\n",
        "print (\"Test Accuracy = \" + str(preds[1]*100),'%')"
      ],
      "metadata": {
        "id": "33wnVR1PlICi"
      },
      "execution_count": null,
      "outputs": []
    },
    {
      "cell_type": "code",
      "source": [
        "#observing its classification report and confusion matrix\n",
        "from sklearn.metrics import accuracy_score,classification_report,confusion_matrix\n",
        "#predict\n",
        "y_pred=model.predict(test_x)\n",
        "y_pred=np.argmax(y_pred,axis=1)"
      ],
      "metadata": {
        "id": "oPmxWqkolII8"
      },
      "execution_count": null,
      "outputs": []
    },
    {
      "cell_type": "markdown",
      "source": [
        "import keras.utils as image from matplotlib.pyplot import imread img_path = 'banana.jpeg' img = image.load_img(img_path, target_size=(100, 100, 1)) x = image.img_to_array(img) x = np.expand_dims(x, axis=0) x = preprocess_input(x) print('Input image shape:', x.shape) my_image = imread(img_path) imshow(my_image) print(model.predict(x))"
      ],
      "metadata": {
        "id": "2AYTWsL8lSXK"
      }
    },
    {
      "cell_type": "code",
      "source": [
        "test_y_arg=np.argmax(test_y,axis=1)\n",
        "Y_pred = np.argmax(model.predict(test_x),axis=1)\n",
        "print('Confusion Matrix')\n",
        "print(confusion_matrix(test_y_arg, Y_pred))"
      ],
      "metadata": {
        "id": "_rut_osLlIK-"
      },
      "execution_count": null,
      "outputs": []
    },
    {
      "cell_type": "code",
      "source": [
        "from sklearn.metrics import accuracy_score,classification_report\n",
        "print(classification_report(test_y_arg, Y_pred))"
      ],
      "metadata": {
        "id": "S672VCLDlIPe"
      },
      "execution_count": null,
      "outputs": []
    },
    {
      "cell_type": "code",
      "source": [],
      "metadata": {
        "id": "LfEmNiXilIVv"
      },
      "execution_count": null,
      "outputs": []
    },
    {
      "cell_type": "code",
      "source": [],
      "metadata": {
        "id": "Wn2mp0AwlIbL"
      },
      "execution_count": null,
      "outputs": []
    },
    {
      "cell_type": "code",
      "source": [],
      "metadata": {
        "id": "4RZRHsBylIh9"
      },
      "execution_count": null,
      "outputs": []
    }
  ]
}